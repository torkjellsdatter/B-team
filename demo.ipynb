{
 "cells": [
  {
   "cell_type": "code",
   "execution_count": 1,
   "id": "ad7d81d2",
   "metadata": {},
   "outputs": [],
   "source": [
    "from utils.DataProcessor import DataProcessor\n",
    "#from templateMaker import template_maker\n",
    "#from signalExtraction import signalExtraction\n",
    "#import fitFunctions\n",
    "\n",
    "import json\n",
    "import numpy as np\n",
    "import matplotlib.pyplot as plt\n",
    "import pandas as pd\n",
    "import uproot\n",
    "import os\n",
    "\n",
    "#from iminuit import Minuit\n",
    "#from iminuit.cost import Template\n",
    "#from iminuit.cost import LeastSquares\n",
    "\n",
    "import mplhep as hep\n",
    "hep.style.use(hep.style.ALICE)"
   ]
  },
  {
   "cell_type": "markdown",
   "id": "bd37753f",
   "metadata": {},
   "source": [
    "# Read the data\n",
    "When the data is read it must be defined in the following way: output folder containing subfolders corresponding to the datasets. "
   ]
  },
  {
   "cell_type": "code",
   "execution_count": 21,
   "id": "bfaff87e",
   "metadata": {},
   "outputs": [],
   "source": [
    "directory_to_TRoutput_from_HL = \"/Users/idats/cernbox/work/bmeson/analysisOutputRun3/100325_systematics_output2/\"\n",
    "#directory_to_TRoutput_from_HL = \"/Users/idats/cernbox/work/bmeson/analysisOutputRun3/030225_tableReaderwME/\"\n",
    "#directory_to_TRoutput_from_HL = \"/Users/idats/cernbox/work/bmeson/analysisOutputRun3/190325_nominalCuts/\"\n",
    "datasets = [\n",
    "    #\"DQ_LHC22_pass7_skimmed_dielectron_kaon\",\n",
    "    \"DQ_LHC24aj_pass1_skimmed_dielectron_kaon\",\n",
    "    \"DQ_LHC24af_pass1_skimmed_dielectron_kaon\",\n",
    "    \"DQ_LHC24ag_pass1_skimmed_dielectron_kaon\",\n",
    "    \"DQ_LHC24al_pass1_skimmed_dielectron_kaon\",\n",
    "    \"DQ_LHC24am_pass1_skimmed_dielectron_kaon\",\n",
    "    \"DQ_LHC24an_pass1_skimmed_dielectron_kaon\",\n",
    "    \"DQ_LHC24ao_pass1_skimmed_dielectron_kaon\"\n",
    "]"
   ]
  },
  {
   "cell_type": "code",
   "execution_count": 22,
   "id": "176da18f",
   "metadata": {},
   "outputs": [
    {
     "name": "stdout",
     "output_type": "stream",
     "text": [
      "******* DATASET: DQ_LHC24aj_pass1_skimmed_dielectron_kaon\n",
      "******* DATASET: DQ_LHC24af_pass1_skimmed_dielectron_kaon\n",
      "******* DATASET: DQ_LHC24ag_pass1_skimmed_dielectron_kaon\n",
      "******* DATASET: DQ_LHC24al_pass1_skimmed_dielectron_kaon\n",
      "⚠️ WARNING: 3 File not found /Users/idats/cernbox/work/bmeson/analysisOutputRun3/100325_systematics_output2/DQ_LHC24al_pass1_skimmed_dielectron_kaon/hy_1572020/AO2D.root\n",
      "⚠️ Dataframe is empty. 554322, /Users/idats/cernbox/work/bmeson/analysisOutputRun3/100325_systematics_output2/DQ_LHC24al_pass1_skimmed_dielectron_kaon/hy_1571953/AO2D.root/hy_1571953 is not being read properly\n",
      "⚠️ Dataframe is empty. 554207, /Users/idats/cernbox/work/bmeson/analysisOutputRun3/100325_systematics_output2/DQ_LHC24al_pass1_skimmed_dielectron_kaon/hy_1571945/AO2D.root/hy_1571945 is not being read properly\n",
      "⚠️ Dataframe is empty. 554201, /Users/idats/cernbox/work/bmeson/analysisOutputRun3/100325_systematics_output2/DQ_LHC24al_pass1_skimmed_dielectron_kaon/hy_1571943/AO2D.root/hy_1571943 is not being read properly\n",
      "******* DATASET: DQ_LHC24am_pass1_skimmed_dielectron_kaon\n",
      "⚠️ Dataframe is empty. 555965, /Users/idats/cernbox/work/bmeson/analysisOutputRun3/100325_systematics_output2/DQ_LHC24am_pass1_skimmed_dielectron_kaon/hy_1568035/AO2D.root/hy_1568035 is not being read properly\n",
      "⚠️ WARNING: 3 File not found /Users/idats/cernbox/work/bmeson/analysisOutputRun3/100325_systematics_output2/DQ_LHC24am_pass1_skimmed_dielectron_kaon/hy_1568000/AO2D.root\n",
      "******* DATASET: DQ_LHC24an_pass1_skimmed_dielectron_kaon\n",
      "⚠️ Dataframe is empty. 556370, /Users/idats/cernbox/work/bmeson/analysisOutputRun3/100325_systematics_output2/DQ_LHC24an_pass1_skimmed_dielectron_kaon/hy_1571184/AO2D.root/hy_1571184 is not being read properly\n",
      "******* DATASET: DQ_LHC24ao_pass1_skimmed_dielectron_kaon\n",
      "⚠️ WARNING: 3 File not found /Users/idats/cernbox/work/bmeson/analysisOutputRun3/100325_systematics_output2/DQ_LHC24ao_pass1_skimmed_dielectron_kaon/hy_1568343/AO2D.root\n"
     ]
    }
   ],
   "source": [
    "processor = DataProcessor(directory_to_TRoutput_from_HL, datasets, verbose=False)\n",
    "\n",
    "# Read the dataset\n",
    "total_data, _ = processor.read_data(read_ME=False)"
   ]
  },
  {
   "cell_type": "code",
   "execution_count": 23,
   "id": "56ac50fa",
   "metadata": {
    "scrolled": true
   },
   "outputs": [
    {
     "name": "stdout",
     "output_type": "stream",
     "text": [
      "⚠️ WARNING: 8 candidates pass no cuts - fIsJpsiFromBSelected =0 \n",
      "⚠️ WARNING: 8 candidates pass no cuts - fIsBarrelSelected =0 \n"
     ]
    }
   ],
   "source": [
    "# Preprocess the data (removing nan and relabeling columns)\n",
    "total_data = processor.pre_processing(total_data)"
   ]
  },
  {
   "cell_type": "code",
   "execution_count": 24,
   "id": "ac4cbd13",
   "metadata": {},
   "outputs": [],
   "source": [
    "# Translate from bitmap columns and create columns with cuts being passed\n",
    "config_cuts, name_electron_cuts, name_kaon_cuts = processor.read_cuts_from_configfile()"
   ]
  },
  {
   "cell_type": "code",
   "execution_count": 25,
   "id": "83797cc6",
   "metadata": {
    "scrolled": true
   },
   "outputs": [
    {
     "name": "stdout",
     "output_type": "stream",
     "text": [
      "⚠️ WARNING: /Users/idats/cernbox/work/bmeson/analysisOutputRun3/100325_systematics_output2/DQ_LHC24af_pass1_skimmed_dielectron_kaon/AnalysisResults.root file not found\n",
      "⚠️ WARNING: /Users/idats/cernbox/work/bmeson/analysisOutputRun3/100325_systematics_output2/DQ_LHC24ag_pass1_skimmed_dielectron_kaon/AnalysisResults.root file not found\n",
      "⚠️ WARNING: /Users/idats/cernbox/work/bmeson/analysisOutputRun3/100325_systematics_output2/DQ_LHC24al_pass1_skimmed_dielectron_kaon/AnalysisResults.root file not found\n",
      "⚠️ WARNING: /Users/idats/cernbox/work/bmeson/analysisOutputRun3/100325_systematics_output2/DQ_LHC24am_pass1_skimmed_dielectron_kaon/AnalysisResults.root file not found\n",
      "⚠️ WARNING: /Users/idats/cernbox/work/bmeson/analysisOutputRun3/100325_systematics_output2/DQ_LHC24an_pass1_skimmed_dielectron_kaon/AnalysisResults.root file not found\n",
      "⚠️ WARNING: /Users/idats/cernbox/work/bmeson/analysisOutputRun3/100325_systematics_output2/DQ_LHC24ao_pass1_skimmed_dielectron_kaon/AnalysisResults.root file not found\n"
     ]
    }
   ],
   "source": [
    "# This returns a warning if there is a mismatch in the entries in the histograms of the AnalyisResults.root file and the derived dataset\n",
    "processor.compare_to_AnalysisResult(total_data, verbose=False)"
   ]
  },
  {
   "cell_type": "code",
   "execution_count": 7,
   "id": "92dd29f1",
   "metadata": {},
   "outputs": [],
   "source": [
    "#plot_bins = np.linspace(3, 10, 500)\n",
    "#processor.plot_datasets(total_data, bins=plot_bins)"
   ]
  },
  {
   "cell_type": "markdown",
   "id": "144bfa6a",
   "metadata": {},
   "source": [
    "# Read MC"
   ]
  },
  {
   "cell_type": "code",
   "execution_count": 8,
   "id": "354a8657",
   "metadata": {},
   "outputs": [],
   "source": [
    "# reading a single AO2D.root.file \n",
    "#list_of_dataframes, _ = mc_processor.read_AO2D(MCdatapath, _, _, _, \"dileptonAOD.root\")\n",
    "#local_run_df = pd.concat(list_of_dataframes, ignore_index=True) if list_of_dataframes else pd.DataFrame()"
   ]
  },
  {
   "cell_type": "code",
   "execution_count": 9,
   "id": "f3e772cb",
   "metadata": {},
   "outputs": [
    {
     "name": "stdout",
     "output_type": "stream",
     "text": [
      "******* DATASET: LHC25b17\n",
      "⚠️ WARNING: 3 File not found /Users/idats/cernbox/work/bmeson/analysisOutputRun3/180325_LHC25b17_QA/LHC25b17/hy_1651883/AO2D.root\n",
      "⚠️ Dataframe is empty. 556370, /Users/idats/cernbox/work/bmeson/analysisOutputRun3/180325_LHC25b17_QA/LHC25b17/hy_1651756/AO2D.root/hy_1651756 is not being read properly\n",
      "⚠️ WARNING: 3 File not found /Users/idats/cernbox/work/bmeson/analysisOutputRun3/180325_LHC25b17_QA/LHC25b17/hy_1651749/AO2D.root\n",
      "⚠️ Dataframe is empty. 555965, /Users/idats/cernbox/work/bmeson/analysisOutputRun3/180325_LHC25b17_QA/LHC25b17/hy_1651743/AO2D.root/hy_1651743 is not being read properly\n",
      "⚠️ WARNING: 3 File not found /Users/idats/cernbox/work/bmeson/analysisOutputRun3/180325_LHC25b17_QA/LHC25b17/hy_1651680/AO2D.root\n",
      "⚠️ WARNING: 3 File not found /Users/idats/cernbox/work/bmeson/analysisOutputRun3/180325_LHC25b17_QA/LHC25b17/hy_1651673/AO2D.root\n",
      "⚠️ Dataframe is empty. 554322, /Users/idats/cernbox/work/bmeson/analysisOutputRun3/180325_LHC25b17_QA/LHC25b17/hy_1651625/AO2D.root/hy_1651625 is not being read properly\n",
      "⚠️ Dataframe is empty. 554207, /Users/idats/cernbox/work/bmeson/analysisOutputRun3/180325_LHC25b17_QA/LHC25b17/hy_1651617/AO2D.root/hy_1651617 is not being read properly\n",
      "⚠️ Dataframe is empty. 554201, /Users/idats/cernbox/work/bmeson/analysisOutputRun3/180325_LHC25b17_QA/LHC25b17/hy_1651615/AO2D.root/hy_1651615 is not being read properly\n",
      "⚠️ WARNING: 3 File not found /Users/idats/cernbox/work/bmeson/analysisOutputRun3/180325_LHC25b17_QA/LHC25b17/hy_1651555/AO2D.root\n",
      "⚠️ WARNING: 3 File not found /Users/idats/cernbox/work/bmeson/analysisOutputRun3/180325_LHC25b17_QA/LHC25b17/hy_1651483/AO2D.root\n"
     ]
    }
   ],
   "source": [
    "MCdatapath = \"/Users/idats/cernbox/work/bmeson/analysisOutputRun3/180325_LHC25b17_QA/\"\n",
    "mc_processor = DataProcessor(MCdatapath, [\"LHC25b17\"], verbose=False)\n",
    "\n",
    "# Read the dataset\n",
    "total_mc, _ = mc_processor.read_data(read_ME=False)"
   ]
  },
  {
   "cell_type": "code",
   "execution_count": 10,
   "id": "28a39520",
   "metadata": {
    "scrolled": false
   },
   "outputs": [
    {
     "name": "stdout",
     "output_type": "stream",
     "text": [
      "⚠️ WARNING: 11 candidates pass no cuts - fIsJpsiFromBSelected =0 \n",
      "⚠️ WARNING: 11 candidates pass no cuts - fIsBarrelSelected =0 \n"
     ]
    }
   ],
   "source": [
    "total_mc = mc_processor.pre_processing(total_mc)"
   ]
  },
  {
   "cell_type": "code",
   "execution_count": 11,
   "id": "9085e82e",
   "metadata": {},
   "outputs": [],
   "source": [
    "mc_config_cuts, mc_name_electron_cuts, mc_name_kaon_cuts = mc_processor.read_cuts_from_configfile()"
   ]
  },
  {
   "cell_type": "code",
   "execution_count": 12,
   "id": "a25ee7a4",
   "metadata": {},
   "outputs": [],
   "source": [
    "mc_processor.compare_to_AnalysisResult(total_mc, verbose=False)"
   ]
  },
  {
   "cell_type": "markdown",
   "id": "5165b204",
   "metadata": {},
   "source": [
    "# Apply cuts"
   ]
  },
  {
   "cell_type": "code",
   "execution_count": 28,
   "id": "fc24b4d0",
   "metadata": {},
   "outputs": [],
   "source": [
    "data_with_cuts = total_data\n",
    "mc_with_cuts = total_mc\n",
    "\n",
    "tauCut = 0.0004\n",
    "chi2cut = 2"
   ]
  },
  {
   "cell_type": "code",
   "execution_count": 29,
   "id": "e8a4e192",
   "metadata": {},
   "outputs": [],
   "source": [
    "data_with_cuts = data_with_cuts.loc[data_with_cuts[\"fTauxyBcandidate\"] > tauCut]\n",
    "mc_with_cuts = mc_with_cuts.loc[mc_with_cuts[\"fTauxyBcandidate\"] > tauCut]"
   ]
  },
  {
   "cell_type": "code",
   "execution_count": 30,
   "id": "739c31d6",
   "metadata": {},
   "outputs": [],
   "source": [
    "data_with_cuts = data_with_cuts.loc[data_with_cuts[\"fChi2Bcandidate\"] < chi2cut]\n",
    "mc_with_cuts = mc_with_cuts.loc[mc_with_cuts[\"fChi2Bcandidate\"] < chi2cut]"
   ]
  },
  {
   "cell_type": "code",
   "execution_count": 31,
   "id": "cd5180f7",
   "metadata": {},
   "outputs": [],
   "source": [
    "jpsi_minMass = 2.8\n",
    "jpsi_maxMass = 3.2\n",
    "data_with_cuts = data_with_cuts.loc[(data_with_cuts[\"fMassDileptonCandidate\"] > jpsi_minMass)&(data_with_cuts[\"fMassDileptonCandidate\"] < jpsi_maxMass)]\n",
    "mc_with_cuts = mc_with_cuts.loc[(mc_with_cuts[\"fMassDileptonCandidate\"] > jpsi_minMass)&(mc_with_cuts[\"fMassDileptonCandidate\"] < jpsi_maxMass)]"
   ]
  },
  {
   "cell_type": "code",
   "execution_count": 32,
   "id": "42bc6068",
   "metadata": {},
   "outputs": [
    {
     "data": {
      "text/plain": [
       "(596151, 17)"
      ]
     },
     "execution_count": 32,
     "metadata": {},
     "output_type": "execute_result"
    }
   ],
   "source": [
    "data_with_cuts.shape"
   ]
  },
  {
   "cell_type": "markdown",
   "id": "d01e61a0",
   "metadata": {},
   "source": [
    "# Signal extraction"
   ]
  }
 ],
 "metadata": {
  "kernelspec": {
   "display_name": "Python (venv)",
   "language": "python",
   "name": "venv"
  },
  "language_info": {
   "codemirror_mode": {
    "name": "ipython",
    "version": 3
   },
   "file_extension": ".py",
   "mimetype": "text/x-python",
   "name": "python",
   "nbconvert_exporter": "python",
   "pygments_lexer": "ipython3",
   "version": "3.13.2"
  }
 },
 "nbformat": 4,
 "nbformat_minor": 5
}
