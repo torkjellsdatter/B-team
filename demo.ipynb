{
 "cells": [
  {
   "cell_type": "code",
   "execution_count": 1,
   "id": "ad7d81d2",
   "metadata": {},
   "outputs": [],
   "source": [
    "from utils.DataProcessor import DataProcessor\n",
    "#from templateMaker import template_maker\n",
    "#from signalExtraction import signalExtraction\n",
    "#import fitFunctions\n",
    "\n",
    "import json\n",
    "import numpy as np\n",
    "import matplotlib.pyplot as plt\n",
    "import pandas as pd\n",
    "import uproot\n",
    "import os\n",
    "\n",
    "#from iminuit import Minuit\n",
    "#from iminuit.cost import Template\n",
    "#from iminuit.cost import LeastSquares\n",
    "\n",
    "import mplhep as hep\n",
    "hep.style.use(hep.style.ALICE)"
   ]
  },
  {
   "cell_type": "markdown",
   "id": "bd37753f",
   "metadata": {},
   "source": [
    "# Read the data\n",
    "When the data is read it must be defined in the following way: output folder containing subfolders corresponding to the datasets. "
   ]
  },
  {
   "cell_type": "code",
   "execution_count": null,
   "id": "bfaff87e",
   "metadata": {},
   "outputs": [],
   "source": [
    "directory_to_TRoutput_from_HL = \"/Users/idats/cernbox/work/bmeson/analysisOutputRun3/100325_systematics_output2/\"\n",
    "#directory_to_TRoutput_from_HL = \"/Users/idats/cernbox/work/bmeson/analysisOutputRun3/030225_tableReaderwME/\"\n",
    "#directory_to_TRoutput_from_HL = \"/Users/idats/cernbox/work/bmeson/analysisOutputRun3/190325_nominalCuts/\"\n",
    "datasets = [\n",
    "    #\"DQ_LHC22_pass7_skimmed_dielectron_kaon\",\n",
    "    \"DQ_LHC24aj_pass1_skimmed_dielectron_kaon\",\n",
    "    #\"DQ_LHC24af_pass1_skimmed_dielectron_kaon\",\n",
    "    #\"DQ_LHC24ag_pass1_skimmed_dielectron_kaon\",\n",
    "    #\"DQ_LHC24al_pass1_skimmed_dielectron_kaon\",\n",
    "    #\"DQ_LHC24am_pass1_skimmed_dielectron_kaon\",\n",
    "    #\"DQ_LHC24an_pass1_skimmed_dielectron_kaon\",\n",
    "    #\"DQ_LHC24ao_pass1_skimmed_dielectron_kaon\"\n",
    "]"
   ]
  },
  {
   "cell_type": "code",
   "execution_count": null,
   "id": "176da18f",
   "metadata": {},
   "outputs": [],
   "source": [
    "processor = DataProcessor(directory_to_TRoutput_from_HL, datasets, verbose=False)\n",
    "\n",
    "# Read the dataset\n",
    "total_data, _ = processor.read_data(read_ME=False)"
   ]
  },
  {
   "cell_type": "code",
   "execution_count": null,
   "id": "56ac50fa",
   "metadata": {
    "scrolled": true
   },
   "outputs": [],
   "source": [
    "# Preprocess the data (removing nan and relabeling columns)\n",
    "total_data = processor.pre_processing(total_data)"
   ]
  },
  {
   "cell_type": "code",
   "execution_count": null,
   "id": "ac4cbd13",
   "metadata": {},
   "outputs": [],
   "source": [
    "# Translate from bitmap columns and create columns with cuts being passed\n",
    "config_cuts, name_electron_cuts, name_kaon_cuts = processor.read_cuts_from_configfile()"
   ]
  },
  {
   "cell_type": "code",
   "execution_count": null,
   "id": "83797cc6",
   "metadata": {
    "scrolled": true
   },
   "outputs": [],
   "source": [
    "# This returns a warning if there is a mismatch in the entries in the histograms of the AnalyisResults.root file and the derived dataset\n",
    "processor.compare_to_AnalysisResult(total_data, verbose=False)"
   ]
  },
  {
   "cell_type": "code",
   "execution_count": null,
   "id": "92dd29f1",
   "metadata": {},
   "outputs": [],
   "source": [
    "#plot_bins = np.linspace(3, 10, 500)\n",
    "#processor.plot_datasets(total_data, bins=plot_bins)"
   ]
  },
  {
   "cell_type": "markdown",
   "id": "144bfa6a",
   "metadata": {},
   "source": [
    "# Read MC"
   ]
  },
  {
   "cell_type": "code",
   "execution_count": null,
   "id": "0375676b",
   "metadata": {},
   "outputs": [],
   "source": [
    "# reading a single AO2D.root.file \n",
    "#list_of_dataframes, _ = mc_processor.read_AO2D(MCdatapath, _, _, _, \"dileptonAOD.root\")\n",
    "#local_run_df = pd.concat(list_of_dataframes, ignore_index=True) if list_of_dataframes else pd.DataFrame()"
   ]
  },
  {
   "cell_type": "code",
   "execution_count": null,
   "id": "f3e772cb",
   "metadata": {},
   "outputs": [
    {
     "name": "stdout",
     "output_type": "stream",
     "text": [
      "******* DATASET: LHC25b17\n",
      "⚠️ WARNING: 3 File not found /Users/idats/cernbox/work/bmeson/analysisOutputRun3/180325_LHC25b17_QA/LHC25b17/hy_1651883/AO2D.root\n",
      "⚠️ WARNING: 3 File not found /Users/idats/cernbox/work/bmeson/analysisOutputRun3/180325_LHC25b17_QA/LHC25b17/hy_1651749/AO2D.root\n",
      "⚠️ WARNING: 3 File not found /Users/idats/cernbox/work/bmeson/analysisOutputRun3/180325_LHC25b17_QA/LHC25b17/hy_1651680/AO2D.root\n",
      "⚠️ WARNING: 3 File not found /Users/idats/cernbox/work/bmeson/analysisOutputRun3/180325_LHC25b17_QA/LHC25b17/hy_1651673/AO2D.root\n",
      "⚠️ WARNING: 3 File not found /Users/idats/cernbox/work/bmeson/analysisOutputRun3/180325_LHC25b17_QA/LHC25b17/hy_1651555/AO2D.root\n"
     ]
    }
   ],
   "source": [
    "MCdatapath = \"/Users/idats/cernbox/work/bmeson/analysisOutputRun3/180325_LHC25b17_QA/\"\n",
    "mc_processor = DataProcessor(MCdatapath, [\"LHC25b17\"], verbose=False)\n",
    "\n",
    "# Read the dataset\n",
    "total_mc, _ = mc_processor.read_data(read_ME=False)"
   ]
  },
  {
   "cell_type": "code",
   "execution_count": null,
   "id": "28a39520",
   "metadata": {
    "scrolled": false
   },
   "outputs": [],
   "source": [
    "total_mc = mc_processor.pre_processing(total_mc)"
   ]
  },
  {
   "cell_type": "code",
   "execution_count": null,
   "id": "f1eae8c8",
   "metadata": {},
   "outputs": [],
   "source": [
    "total_mc.head()"
   ]
  },
  {
   "cell_type": "code",
   "execution_count": null,
   "id": "9085e82e",
   "metadata": {},
   "outputs": [],
   "source": [
    "mc_config_cuts, mc_name_electron_cuts, mc_name_kaon_cuts = mc_processor.read_cuts_from_configfile()"
   ]
  },
  {
   "cell_type": "code",
   "execution_count": null,
   "id": "a25ee7a4",
   "metadata": {},
   "outputs": [],
   "source": [
    "mc_processor.compare_to_AnalysisResult(total_mc, verbose=False)"
   ]
  },
  {
   "cell_type": "code",
   "execution_count": null,
   "id": "5f8c101f",
   "metadata": {},
   "outputs": [],
   "source": []
  }
 ],
 "metadata": {
  "kernelspec": {
   "display_name": "Python (venv)",
   "language": "python",
   "name": "venv"
  },
  "language_info": {
   "codemirror_mode": {
    "name": "ipython",
    "version": 3
   },
   "file_extension": ".py",
   "mimetype": "text/x-python",
   "name": "python",
   "nbconvert_exporter": "python",
   "pygments_lexer": "ipython3",
   "version": "3.13.2"
  }
 },
 "nbformat": 4,
 "nbformat_minor": 5
}
