{
 "cells": [
  {
   "cell_type": "code",
   "execution_count": 2,
   "id": "ad7d81d2",
   "metadata": {},
   "outputs": [
    {
     "ename": "IndentationError",
     "evalue": "unindent does not match any outer indentation level (DataProcessor.py, line 129)",
     "output_type": "error",
     "traceback": [
      "Traceback \u001b[0;36m(most recent call last)\u001b[0m:\n",
      "\u001b[0m  File \u001b[1;32m~/pyenv/venv/lib/python3.13/site-packages/IPython/core/interactiveshell.py:3577\u001b[0m in \u001b[1;35mrun_code\u001b[0m\n    exec(code_obj, self.user_global_ns, self.user_ns)\u001b[0m\n",
      "\u001b[0;36m  Cell \u001b[0;32mIn[2], line 1\u001b[0;36m\n\u001b[0;31m    from utils.DataProcessor import DataProcessor\u001b[0;36m\n",
      "\u001b[0;36m  File \u001b[0;32m~/pyenv/B-team/utils/DataProcessor.py:129\u001b[0;36m\u001b[0m\n\u001b[0;31m    except FileNotFoundError:\u001b[0m\n\u001b[0m                             ^\u001b[0m\n\u001b[0;31mIndentationError\u001b[0m\u001b[0;31m:\u001b[0m unindent does not match any outer indentation level\n"
     ]
    }
   ],
   "source": [
    "from utils.DataProcessor import DataProcessor\n",
    "#from templateMaker import template_maker\n",
    "#from signalExtraction import signalExtraction\n",
    "#import fitFunctions\n",
    "\n",
    "import json\n",
    "import numpy as np\n",
    "import matplotlib.pyplot as plt\n",
    "import pandas as pd\n",
    "import uproot\n",
    "import os\n",
    "\n",
    "#from iminuit import Minuit\n",
    "#from iminuit.cost import Template\n",
    "#from iminuit.cost import LeastSquares\n",
    "\n",
    "import mplhep as hep\n",
    "hep.style.use(hep.style.ALICE)"
   ]
  },
  {
   "cell_type": "markdown",
   "id": "bd37753f",
   "metadata": {},
   "source": [
    "# Read the data\n",
    "When the data is read it must be defined in the following way: output folder containing subfolders corresponding to the datasets. "
   ]
  },
  {
   "cell_type": "code",
   "execution_count": null,
   "id": "bfaff87e",
   "metadata": {},
   "outputs": [],
   "source": [
    "directory_to_TRoutput_from_HL = \"/Users/idats/cernbox/work/bmeson/analysisOutputRun3/100325_systematics_output2/\"\n",
    "#directory_to_TRoutput_from_HL = \"/Users/idats/cernbox/work/bmeson/analysisOutputRun3/030225_tableReaderwME/\"\n",
    "#directory_to_TRoutput_from_HL = \"/Users/idats/cernbox/work/bmeson/analysisOutputRun3/190325_nominalCuts/\"\n",
    "datasets = [\n",
    "    #\"DQ_LHC22_pass7_skimmed_dielectron_kaon\",\n",
    "    \"DQ_LHC24aj_pass1_skimmed_dielectron_kaon\",\n",
    "    #\"DQ_LHC24af_pass1_skimmed_dielectron_kaon\",\n",
    "    #\"DQ_LHC24ag_pass1_skimmed_dielectron_kaon\",\n",
    "    #\"DQ_LHC24al_pass1_skimmed_dielectron_kaon\",\n",
    "    #\"DQ_LHC24am_pass1_skimmed_dielectron_kaon\",\n",
    "    #\"DQ_LHC24an_pass1_skimmed_dielectron_kaon\",\n",
    "    #\"DQ_LHC24ao_pass1_skimmed_dielectron_kaon\"\n",
    "]"
   ]
  },
  {
   "cell_type": "code",
   "execution_count": null,
   "id": "176da18f",
   "metadata": {},
   "outputs": [],
   "source": [
    "processor = DataProcessor(directory_to_TRoutput_from_HL, datasets, verbose=False)\n",
    "\n",
    "# Read the dataset\n",
    "total_data, _ = processor.read_data(read_ME=False)"
   ]
  },
  {
   "cell_type": "code",
   "execution_count": null,
   "id": "56ac50fa",
   "metadata": {
    "scrolled": true
   },
   "outputs": [],
   "source": [
    "# Preprocess the data (removing nan and relabeling columns)\n",
    "total_data = processor.pre_processing(total_data)"
   ]
  },
  {
   "cell_type": "code",
   "execution_count": null,
   "id": "ac4cbd13",
   "metadata": {},
   "outputs": [],
   "source": [
    "# Translate from bitmap columns and create columns with cuts being passed\n",
    "config_cuts, name_electron_cuts, name_kaon_cuts = processor.read_cuts_from_configfile()"
   ]
  },
  {
   "cell_type": "code",
   "execution_count": null,
   "id": "83797cc6",
   "metadata": {
    "scrolled": true
   },
   "outputs": [],
   "source": [
    "# This returns a warning if there is a mismatch in the entries in the histograms of the AnalyisResults.root file and the derived dataset\n",
    "processor.compare_to_AnalysisResult(total_data, verbose=False)"
   ]
  },
  {
   "cell_type": "code",
   "execution_count": null,
   "id": "92dd29f1",
   "metadata": {},
   "outputs": [],
   "source": [
    "#plot_bins = np.linspace(3, 10, 500)\n",
    "#processor.plot_datasets(total_data, bins=plot_bins)"
   ]
  },
  {
   "cell_type": "markdown",
   "id": "144bfa6a",
   "metadata": {},
   "source": [
    "# Read MC"
   ]
  },
  {
   "cell_type": "code",
   "execution_count": null,
   "id": "f3e772cb",
   "metadata": {},
   "outputs": [],
   "source": [
    "# TODO: make function for reading the AO2D.root directly / for when running locally\n",
    "MCdatapath = \"/Users/idats/cernbox/work/bmeson/analysisOutputRun3/180325_LHC25b17_QA/\"\n",
    "mc_processor = DataProcessor(MCdatapath, [\"LHC25b17\"], verbose=False)\n",
    "\n",
    "# Read the dataset\n",
    "total_mc, _ = mc_processor.read_data(read_ME=False)"
   ]
  },
  {
   "cell_type": "code",
   "execution_count": null,
   "id": "28a39520",
   "metadata": {
    "scrolled": false
   },
   "outputs": [],
   "source": [
    "total_mc = mc_processor.pre_processing(total_mc)"
   ]
  },
  {
   "cell_type": "code",
   "execution_count": null,
   "id": "9085e82e",
   "metadata": {},
   "outputs": [],
   "source": [
    "mc_config_cuts, mc_name_electron_cuts, mc_name_kaon_cuts = mc_processor.read_cuts_from_configfile()"
   ]
  },
  {
   "cell_type": "code",
   "execution_count": null,
   "id": "a25ee7a4",
   "metadata": {},
   "outputs": [],
   "source": [
    "mc_processor.compare_to_AnalysisResult(total_mc, verbose=False)"
   ]
  },
  {
   "cell_type": "code",
   "execution_count": null,
   "id": "5f8c101f",
   "metadata": {},
   "outputs": [],
   "source": []
  }
 ],
 "metadata": {
  "kernelspec": {
   "display_name": "Python (venv)",
   "language": "python",
   "name": "venv"
  },
  "language_info": {
   "codemirror_mode": {
    "name": "ipython",
    "version": 3
   },
   "file_extension": ".py",
   "mimetype": "text/x-python",
   "name": "python",
   "nbconvert_exporter": "python",
   "pygments_lexer": "ipython3",
   "version": "3.13.2"
  }
 },
 "nbformat": 4,
 "nbformat_minor": 5
}
